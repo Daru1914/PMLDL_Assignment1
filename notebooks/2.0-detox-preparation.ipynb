{
 "cells": [
  {
   "cell_type": "markdown",
   "metadata": {},
   "source": [
    "We will be attempting to solve detoxification using models from \"Text Detoxification using Large Pre-trained Neural Models\" by David Dale et al. Let us first clone their repository."
   ]
  },
  {
   "cell_type": "code",
   "execution_count": 1,
   "metadata": {},
   "outputs": [
    {
     "name": "stderr",
     "output_type": "stream",
     "text": [
      "fatal: destination path '../detox' already exists and is not an empty directory.\n"
     ]
    }
   ],
   "source": [
    "!git clone https://github.com/s-nlp/detox ../detox"
   ]
  },
  {
   "cell_type": "code",
   "execution_count": 2,
   "metadata": {},
   "outputs": [],
   "source": [
    "libraries = []\n",
    "with open('../detox/requirements.txt', 'r') as f:\n",
    "    libraries = f.read().splitlines()"
   ]
  },
  {
   "cell_type": "code",
   "execution_count": 3,
   "metadata": {},
   "outputs": [
    {
     "data": {
      "text/plain": [
       "['tqdm',\n",
       " 'numpy',\n",
       " 'pandas',\n",
       " 'torch',\n",
       " 'nltk',\n",
       " 'transformers==4.24',\n",
       " 'fairseq==0.10.0',\n",
       " 'sentencepiece',\n",
       " 'keras_preprocessing',\n",
       " 'flair',\n",
       " 'scipy']"
      ]
     },
     "execution_count": 3,
     "metadata": {},
     "output_type": "execute_result"
    }
   ],
   "source": [
    "libraries"
   ]
  },
  {
   "cell_type": "markdown",
   "metadata": {},
   "source": [
    "Check to see if there are any packages not installed."
   ]
  },
  {
   "cell_type": "code",
   "execution_count": 4,
   "metadata": {},
   "outputs": [
    {
     "name": "stdout",
     "output_type": "stream",
     "text": [
      "Note: you may need to restart the kernel to use updated packages.\n"
     ]
    },
    {
     "name": "stderr",
     "output_type": "stream",
     "text": [
      "\n",
      "[notice] A new release of pip available: 22.3.1 -> 23.3.1\n",
      "[notice] To update, run: python.exe -m pip install --upgrade pip\n"
     ]
    }
   ],
   "source": [
    "%pip install -r ../detox/requirements.txt -q"
   ]
  },
  {
   "cell_type": "markdown",
   "metadata": {},
   "source": [
    "### Dataset Preparation  \n",
    "As we remember, some of the translations in our dataset have a higher toxicity score than the original statements. Keeping that in mind, let us form a new dataset, that would reliably contain toxic and non-toxic sentences in different columns."
   ]
  },
  {
   "cell_type": "code",
   "execution_count": 66,
   "metadata": {},
   "outputs": [
    {
     "data": {
      "text/html": [
       "<div>\n",
       "<style scoped>\n",
       "    .dataframe tbody tr th:only-of-type {\n",
       "        vertical-align: middle;\n",
       "    }\n",
       "\n",
       "    .dataframe tbody tr th {\n",
       "        vertical-align: top;\n",
       "    }\n",
       "\n",
       "    .dataframe thead th {\n",
       "        text-align: right;\n",
       "    }\n",
       "</style>\n",
       "<table border=\"1\" class=\"dataframe\">\n",
       "  <thead>\n",
       "    <tr style=\"text-align: right;\">\n",
       "      <th></th>\n",
       "      <th>toxic</th>\n",
       "      <th>non-toxic</th>\n",
       "      <th>old_toxicity</th>\n",
       "      <th>new_toxicity</th>\n",
       "    </tr>\n",
       "    <tr>\n",
       "      <th>Index</th>\n",
       "      <th></th>\n",
       "      <th></th>\n",
       "      <th></th>\n",
       "      <th></th>\n",
       "    </tr>\n",
       "  </thead>\n",
       "  <tbody>\n",
       "    <tr>\n",
       "      <th>0</th>\n",
       "      <td>if alkar floods her with her mental waste, it ...</td>\n",
       "      <td>if alkar is flooding her with psychic waste, t...</td>\n",
       "      <td>0.981983</td>\n",
       "      <td>0.014195</td>\n",
       "    </tr>\n",
       "    <tr>\n",
       "      <th>1</th>\n",
       "      <td>you're becoming disgusting.</td>\n",
       "      <td>now you're getting nasty.</td>\n",
       "      <td>0.999039</td>\n",
       "      <td>0.065473</td>\n",
       "    </tr>\n",
       "    <tr>\n",
       "      <th>2</th>\n",
       "      <td>well, we can spare your life.</td>\n",
       "      <td>well, we could spare your life, for one.</td>\n",
       "      <td>0.985068</td>\n",
       "      <td>0.213313</td>\n",
       "    </tr>\n",
       "    <tr>\n",
       "      <th>3</th>\n",
       "      <td>monkey, you have to wake up.</td>\n",
       "      <td>ah! monkey, you've got to snap out of it.</td>\n",
       "      <td>0.994215</td>\n",
       "      <td>0.053362</td>\n",
       "    </tr>\n",
       "    <tr>\n",
       "      <th>4</th>\n",
       "      <td>i have orders to kill her.</td>\n",
       "      <td>i've got orders to put her down.</td>\n",
       "      <td>0.999348</td>\n",
       "      <td>0.009402</td>\n",
       "    </tr>\n",
       "  </tbody>\n",
       "</table>\n",
       "</div>"
      ],
      "text/plain": [
       "                                                   toxic  \\\n",
       "Index                                                      \n",
       "0      if alkar floods her with her mental waste, it ...   \n",
       "1                            you're becoming disgusting.   \n",
       "2                          well, we can spare your life.   \n",
       "3                           monkey, you have to wake up.   \n",
       "4                             i have orders to kill her.   \n",
       "\n",
       "                                               non-toxic  old_toxicity  \\\n",
       "Index                                                                    \n",
       "0      if alkar is flooding her with psychic waste, t...      0.981983   \n",
       "1                              now you're getting nasty.      0.999039   \n",
       "2               well, we could spare your life, for one.      0.985068   \n",
       "3              ah! monkey, you've got to snap out of it.      0.994215   \n",
       "4                       i've got orders to put her down.      0.999348   \n",
       "\n",
       "       new_toxicity  \n",
       "Index                \n",
       "0          0.014195  \n",
       "1          0.065473  \n",
       "2          0.213313  \n",
       "3          0.053362  \n",
       "4          0.009402  "
      ]
     },
     "execution_count": 66,
     "metadata": {},
     "output_type": "execute_result"
    }
   ],
   "source": [
    "import pandas as pd\n",
    "\n",
    "dataset = pd.read_csv(\"../data/interim/filtered_paranmt.tsv\", delimiter='\\t')\n",
    "dataset = dataset.set_index(dataset.columns[0])\n",
    "dataset.index.name = \"Index\"\n",
    "\n",
    "# Create new columns based on aforementioned conditions\n",
    "dataset['toxic'] = dataset.apply(lambda row: row['translation'] if row['ref_tox'] < row['trn_tox'] else row['reference'], axis=1)\n",
    "dataset['non-toxic'] = dataset.apply(lambda row: row['reference'] if row['ref_tox'] < row['trn_tox'] else row['translation'], axis=1)\n",
    "dataset['old_toxicity'] = dataset.apply(lambda row: row['trn_tox'] if row['ref_tox'] < row['trn_tox'] else row['ref_tox'], axis=1)\n",
    "dataset['new_toxicity'] = dataset.apply(lambda row: row['ref_tox'] if row['ref_tox'] < row['trn_tox'] else row['trn_tox'], axis=1)\n",
    "dataset['toxic'] = dataset['toxic'].str.lower()\n",
    "dataset['non-toxic'] = dataset['non-toxic'].str.lower()\n",
    "dataset.drop(['reference', 'translation', 'similarity', 'lenght_diff', 'ref_tox', 'trn_tox'], axis=1, inplace=True)\n",
    "dataset.head()"
   ]
  },
  {
   "cell_type": "code",
   "execution_count": 67,
   "metadata": {},
   "outputs": [
    {
     "data": {
      "text/html": [
       "<div>\n",
       "<style scoped>\n",
       "    .dataframe tbody tr th:only-of-type {\n",
       "        vertical-align: middle;\n",
       "    }\n",
       "\n",
       "    .dataframe tbody tr th {\n",
       "        vertical-align: top;\n",
       "    }\n",
       "\n",
       "    .dataframe thead th {\n",
       "        text-align: right;\n",
       "    }\n",
       "</style>\n",
       "<table border=\"1\" class=\"dataframe\">\n",
       "  <thead>\n",
       "    <tr style=\"text-align: right;\">\n",
       "      <th></th>\n",
       "      <th>old_toxicity</th>\n",
       "      <th>new_toxicity</th>\n",
       "    </tr>\n",
       "  </thead>\n",
       "  <tbody>\n",
       "    <tr>\n",
       "      <th>count</th>\n",
       "      <td>577777.000000</td>\n",
       "      <td>577777.000000</td>\n",
       "    </tr>\n",
       "    <tr>\n",
       "      <th>mean</th>\n",
       "      <td>0.940260</td>\n",
       "      <td>0.035601</td>\n",
       "    </tr>\n",
       "    <tr>\n",
       "      <th>std</th>\n",
       "      <td>0.100831</td>\n",
       "      <td>0.079399</td>\n",
       "    </tr>\n",
       "    <tr>\n",
       "      <th>min</th>\n",
       "      <td>0.500139</td>\n",
       "      <td>0.000033</td>\n",
       "    </tr>\n",
       "    <tr>\n",
       "      <th>25%</th>\n",
       "      <td>0.940145</td>\n",
       "      <td>0.000164</td>\n",
       "    </tr>\n",
       "    <tr>\n",
       "      <th>50%</th>\n",
       "      <td>0.983842</td>\n",
       "      <td>0.003456</td>\n",
       "    </tr>\n",
       "    <tr>\n",
       "      <th>75%</th>\n",
       "      <td>0.997519</td>\n",
       "      <td>0.027242</td>\n",
       "    </tr>\n",
       "    <tr>\n",
       "      <th>max</th>\n",
       "      <td>0.999730</td>\n",
       "      <td>0.499494</td>\n",
       "    </tr>\n",
       "  </tbody>\n",
       "</table>\n",
       "</div>"
      ],
      "text/plain": [
       "        old_toxicity   new_toxicity\n",
       "count  577777.000000  577777.000000\n",
       "mean        0.940260       0.035601\n",
       "std         0.100831       0.079399\n",
       "min         0.500139       0.000033\n",
       "25%         0.940145       0.000164\n",
       "50%         0.983842       0.003456\n",
       "75%         0.997519       0.027242\n",
       "max         0.999730       0.499494"
      ]
     },
     "execution_count": 67,
     "metadata": {},
     "output_type": "execute_result"
    }
   ],
   "source": [
    "dataset.describe()"
   ]
  },
  {
   "cell_type": "markdown",
   "metadata": {},
   "source": [
    "Now the toxic and non-toxic sentences are clearly separated in the dataset, so we have something to compare the performance of our dataset against."
   ]
  },
  {
   "cell_type": "code",
   "execution_count": 68,
   "metadata": {},
   "outputs": [],
   "source": [
    "dataset.to_csv(\"../data/interim/separated_tox.csv\")"
   ]
  },
  {
   "cell_type": "markdown",
   "metadata": {},
   "source": [
    "### Considering Metrics  \n",
    "\n",
    "For evaluation purposes we will be using metrics from the aforementioned paper: *J*-score, *ACC*, which were implemented in the PMLDL_Assignment1\\detox\\emnlp2021\\metric\\metric.py file. The comparison with the existing dataset will be conducted through the ACC metric, as we cannot afford to manually gather the data on the toxicity of reformulated sentences by the model from many different people."
   ]
  }
 ],
 "metadata": {
  "kernelspec": {
   "display_name": "Python 3",
   "language": "python",
   "name": "python3"
  },
  "language_info": {
   "codemirror_mode": {
    "name": "ipython",
    "version": 3
   },
   "file_extension": ".py",
   "mimetype": "text/x-python",
   "name": "python",
   "nbconvert_exporter": "python",
   "pygments_lexer": "ipython3",
   "version": "3.10.10"
  }
 },
 "nbformat": 4,
 "nbformat_minor": 2
}
