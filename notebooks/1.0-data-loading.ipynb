{
 "cells": [
  {
   "cell_type": "code",
   "execution_count": null,
   "metadata": {},
   "outputs": [],
   "source": [
    "# Reading the dataset:\n",
    "import pandas as pd\n",
    "\n",
    "dataset = pd.read_csv(\"../data/raw/filtered.tsv\", delimiter='\\t')\n",
    "dataset = dataset.set_index(dataset.columns[0])\n",
    "dataset.index.name = \"Index\""
   ]
  },
  {
   "cell_type": "code",
   "execution_count": null,
   "metadata": {},
   "outputs": [],
   "source": [
    "dataset.head()"
   ]
  }
 ],
 "metadata": {
  "language_info": {
   "name": "python"
  }
 },
 "nbformat": 4,
 "nbformat_minor": 2
}
