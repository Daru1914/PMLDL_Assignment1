{
 "cells": [
  {
   "cell_type": "markdown",
   "metadata": {},
   "source": [
    "### Evaluation  \n",
    "\n",
    "This notebook evaluates the results of the models involved in detoxification project."
   ]
  },
  {
   "cell_type": "code",
   "execution_count": 1,
   "metadata": {},
   "outputs": [],
   "source": [
    "import pandas as pd\n",
    "\n",
    "dataset = pd.read_csv(\"../data/interim/separated_tox.csv\")\n",
    "dataset = dataset.set_index(dataset.columns[0])\n",
    "dataset.index.name = \"Index\"\n",
    "dataset.head()"
   ]
  },
  {
   "cell_type": "code",
   "execution_count": 4,
   "metadata": {},
   "outputs": [],
   "source": [
    "from sklearn.model_selection import train_test_split\n",
    "\n",
    "train_dataset, test_dataset = train_test_split(dataset, test_size=0.2, random_state=36)"
   ]
  },
  {
   "cell_type": "code",
   "execution_count": 5,
   "metadata": {},
   "outputs": [],
   "source": [
    "with open('../data/interim/toxic1.txt', 'w', encoding='utf-8') as file:\n",
    "    for item in test_dataset[\"toxic\"]:\n",
    "        file.write(\"%s\\n\" % item)"
   ]
  },
  {
   "cell_type": "code",
   "execution_count": 8,
   "metadata": {},
   "outputs": [],
   "source": [
    "train_dataset_1, test_dataset_1 = train_test_split(dataset, test_size=0.2, random_state=49)\n",
    "reformed_td = test_dataset_1[:3000]"
   ]
  },
  {
   "cell_type": "code",
   "execution_count": 9,
   "metadata": {},
   "outputs": [],
   "source": [
    "with open('../data/interim/toxic2.txt', 'w', encoding='utf-8') as file:\n",
    "    for item in reformed_td[\"toxic\"]:\n",
    "        file.write(\"%s\\n\" % item)"
   ]
  },
  {
   "cell_type": "code",
   "execution_count": 13,
   "metadata": {},
   "outputs": [
    {
     "name": "stdout",
     "output_type": "stream",
     "text": [
      "Requirement already satisfied: fairseq in c:\\users\\user\\appdata\\local\\programs\\python\\python310\\lib\\site-packages (0.10.0)\n",
      "Collecting fairseq\n",
      "  Downloading fairseq-0.12.2.tar.gz (9.6 MB)\n",
      "     ---------------------------------------- 9.6/9.6 MB 272.6 kB/s eta 0:00:00\n",
      "  Installing build dependencies: started\n",
      "  Installing build dependencies: finished with status 'done'\n",
      "  Getting requirements to build wheel: started\n",
      "  Getting requirements to build wheel: finished with status 'done'\n",
      "  Installing backend dependencies: started\n",
      "  Installing backend dependencies: finished with status 'done'\n",
      "  Preparing metadata (pyproject.toml): started\n",
      "  Preparing metadata (pyproject.toml): finished with status 'done'\n",
      "Requirement already satisfied: sacrebleu>=1.4.12 in c:\\users\\user\\appdata\\local\\programs\\python\\python310\\lib\\site-packages (from fairseq) (2.3.1)\n",
      "Requirement already satisfied: cython in c:\\users\\user\\appdata\\local\\programs\\python\\python310\\lib\\site-packages (from fairseq) (3.0.5)\n",
      "Requirement already satisfied: regex in c:\\users\\user\\appdata\\local\\programs\\python\\python310\\lib\\site-packages (from fairseq) (2022.10.31)\n",
      "Requirement already satisfied: torch in c:\\users\\user\\appdata\\local\\programs\\python\\python310\\lib\\site-packages (from fairseq) (2.1.0)\n",
      "Collecting bitarray\n",
      "  Downloading bitarray-2.8.2-cp310-cp310-win_amd64.whl (122 kB)\n",
      "     ------------------------------------ 122.7/122.7 kB 224.8 kB/s eta 0:00:00\n",
      "Collecting torchaudio>=0.8.0\n",
      "  Downloading torchaudio-2.1.0-cp310-cp310-win_amd64.whl (2.3 MB)\n",
      "     ---------------------------------------- 2.3/2.3 MB 308.2 kB/s eta 0:00:00\n",
      "Collecting omegaconf<2.1\n",
      "  Downloading omegaconf-2.0.6-py3-none-any.whl (36 kB)\n",
      "Requirement already satisfied: numpy in c:\\users\\user\\appdata\\local\\programs\\python\\python310\\lib\\site-packages (from fairseq) (1.26.1)\n",
      "Collecting hydra-core<1.1,>=1.0.7\n",
      "  Downloading hydra_core-1.0.7-py3-none-any.whl (123 kB)\n",
      "     ------------------------------------ 123.8/123.8 kB 485.1 kB/s eta 0:00:00\n",
      "Requirement already satisfied: tqdm in c:\\users\\user\\appdata\\local\\programs\\python\\python310\\lib\\site-packages (from fairseq) (4.66.1)\n",
      "Requirement already satisfied: cffi in c:\\users\\user\\appdata\\local\\programs\\python\\python310\\lib\\site-packages (from fairseq) (1.15.1)\n",
      "Collecting antlr4-python3-runtime==4.8\n",
      "  Downloading antlr4-python3-runtime-4.8.tar.gz (112 kB)\n",
      "     ------------------------------------ 112.4/112.4 kB 466.5 kB/s eta 0:00:00\n",
      "  Preparing metadata (setup.py): started\n",
      "  Preparing metadata (setup.py): finished with status 'done'\n",
      "Requirement already satisfied: PyYAML>=5.1.* in c:\\users\\user\\appdata\\local\\programs\\python\\python310\\lib\\site-packages (from omegaconf<2.1->fairseq) (6.0)\n",
      "Requirement already satisfied: typing-extensions in c:\\users\\user\\appdata\\local\\programs\\python\\python310\\lib\\site-packages (from omegaconf<2.1->fairseq) (4.4.0)\n",
      "Requirement already satisfied: portalocker in c:\\users\\user\\appdata\\local\\programs\\python\\python310\\lib\\site-packages (from sacrebleu>=1.4.12->fairseq) (2.7.0)\n",
      "Requirement already satisfied: lxml in c:\\users\\user\\appdata\\local\\programs\\python\\python310\\lib\\site-packages (from sacrebleu>=1.4.12->fairseq) (4.9.1)\n",
      "Requirement already satisfied: colorama in c:\\users\\user\\appdata\\local\\programs\\python\\python310\\lib\\site-packages (from sacrebleu>=1.4.12->fairseq) (0.4.6)\n",
      "Requirement already satisfied: tabulate>=0.8.9 in c:\\users\\user\\appdata\\local\\programs\\python\\python310\\lib\\site-packages (from sacrebleu>=1.4.12->fairseq) (0.9.0)\n",
      "Requirement already satisfied: networkx in c:\\users\\user\\appdata\\local\\programs\\python\\python310\\lib\\site-packages (from torch->fairseq) (3.0)\n",
      "Requirement already satisfied: filelock in c:\\users\\user\\appdata\\local\\programs\\python\\python310\\lib\\site-packages (from torch->fairseq) (3.8.0)\n",
      "Requirement already satisfied: sympy in c:\\users\\user\\appdata\\local\\programs\\python\\python310\\lib\\site-packages (from torch->fairseq) (1.11.1)\n",
      "Requirement already satisfied: jinja2 in c:\\users\\user\\appdata\\local\\programs\\python\\python310\\lib\\site-packages (from torch->fairseq) (3.1.2)\n",
      "Requirement already satisfied: fsspec in c:\\users\\user\\appdata\\local\\programs\\python\\python310\\lib\\site-packages (from torch->fairseq) (2023.3.0)\n",
      "Requirement already satisfied: pycparser in c:\\users\\user\\appdata\\local\\programs\\python\\python310\\lib\\site-packages (from cffi->fairseq) (2.21)\n",
      "Requirement already satisfied: MarkupSafe>=2.0 in c:\\users\\user\\appdata\\local\\programs\\python\\python310\\lib\\site-packages (from jinja2->torch->fairseq) (2.1.1)\n",
      "Requirement already satisfied: pywin32>=226 in c:\\users\\user\\appdata\\local\\programs\\python\\python310\\lib\\site-packages (from portalocker->sacrebleu>=1.4.12->fairseq) (304)\n",
      "Requirement already satisfied: mpmath>=0.19 in c:\\users\\user\\appdata\\local\\programs\\python\\python310\\lib\\site-packages (from sympy->torch->fairseq) (1.3.0)\n",
      "Building wheels for collected packages: fairseq, antlr4-python3-runtime\n",
      "  Building wheel for fairseq (pyproject.toml): started\n",
      "  Building wheel for fairseq (pyproject.toml): finished with status 'done'\n",
      "  Created wheel for fairseq: filename=fairseq-0.12.2-cp310-cp310-win_amd64.whl size=10349229 sha256=8b68fe70c24c17abebbeced3ba6761d5322d6b732adef60a4dc5deb078e2abce\n",
      "  Stored in directory: c:\\users\\user\\appdata\\local\\pip\\cache\\wheels\\9e\\bd\\73\\c2508b87720b819fd03cbcf93bd39c18890fc60604a13ad6dc\n",
      "  Building wheel for antlr4-python3-runtime (setup.py): started\n",
      "  Building wheel for antlr4-python3-runtime (setup.py): finished with status 'done'\n",
      "  Created wheel for antlr4-python3-runtime: filename=antlr4_python3_runtime-4.8-py3-none-any.whl size=141210 sha256=d1c6b075f3e9a34baa3e55b1be7a57db1716153a370b07841ba5ec36c03ec928\n",
      "  Stored in directory: c:\\users\\user\\appdata\\local\\pip\\cache\\wheels\\ff\\00\\a9\\e529ac6bfcd1da5193da71adc06168186f58f70733e1dfead0\n",
      "Successfully built fairseq antlr4-python3-runtime\n",
      "Installing collected packages: bitarray, antlr4-python3-runtime, omegaconf, hydra-core, torchaudio, fairseq\n",
      "  Attempting uninstall: antlr4-python3-runtime\n",
      "    Found existing installation: antlr4-python3-runtime 4.9.3\n",
      "    Uninstalling antlr4-python3-runtime-4.9.3:\n",
      "      Successfully uninstalled antlr4-python3-runtime-4.9.3\n",
      "  Attempting uninstall: omegaconf\n",
      "    Found existing installation: omegaconf 2.3.0\n",
      "    Uninstalling omegaconf-2.3.0:\n",
      "      Successfully uninstalled omegaconf-2.3.0\n",
      "  Attempting uninstall: hydra-core\n",
      "    Found existing installation: hydra-core 1.3.2\n",
      "    Uninstalling hydra-core-1.3.2:\n",
      "      Successfully uninstalled hydra-core-1.3.2\n",
      "  Attempting uninstall: fairseq\n",
      "    Found existing installation: fairseq 0.10.0\n",
      "    Uninstalling fairseq-0.10.0:\n",
      "      Successfully uninstalled fairseq-0.10.0\n",
      "Successfully installed antlr4-python3-runtime-4.8 bitarray-2.8.2 fairseq-0.12.2 hydra-core-1.0.7 omegaconf-2.0.6 torchaudio-2.1.0\n",
      "Note: you may need to restart the kernel to use updated packages.\n"
     ]
    },
    {
     "name": "stderr",
     "output_type": "stream",
     "text": [
      "\n",
      "[notice] A new release of pip available: 22.3.1 -> 23.3.1\n",
      "[notice] To update, run: python.exe -m pip install --upgrade pip\n"
     ]
    }
   ],
   "source": [
    "%pip install --upgrade fairseq"
   ]
  },
  {
   "cell_type": "code",
   "execution_count": null,
   "metadata": {},
   "outputs": [],
   "source": [
    "# results of the fine-tuned CondBERT\n",
    "!python ../detox/emnlp2021/metric/metric.py --inputs ../data/interim/toxic1.txt --preds ../data/results/results3.txt"
   ]
  },
  {
   "cell_type": "code",
   "execution_count": null,
   "metadata": {},
   "outputs": [],
   "source": [
    "# results of the paraGeDi\n",
    "!python ../detox/emnlp2021/metric/metric.py --inputs ../data/interim/toxic2.txt --preds ../data/results/results2.txt"
   ]
  },
  {
   "cell_type": "code",
   "execution_count": 15,
   "metadata": {},
   "outputs": [],
   "source": [
    "# results of the original CondBERT\n",
    "!python ../detox/emnlp2021/metric/metric.py --inputs ../data/interim/toxic1.txt --preds ../data/results/results1.txt"
   ]
  }
 ],
 "metadata": {
  "kernelspec": {
   "display_name": "Python 3",
   "language": "python",
   "name": "python3"
  },
  "language_info": {
   "codemirror_mode": {
    "name": "ipython",
    "version": 3
   },
   "file_extension": ".py",
   "mimetype": "text/x-python",
   "name": "python",
   "nbconvert_exporter": "python",
   "pygments_lexer": "ipython3",
   "version": "3.10.10"
  }
 },
 "nbformat": 4,
 "nbformat_minor": 2
}
